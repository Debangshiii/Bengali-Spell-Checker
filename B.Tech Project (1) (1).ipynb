{
 "cells": [
  {
   "cell_type": "code",
   "execution_count": 1,
   "id": "31416e17",
   "metadata": {},
   "outputs": [],
   "source": [
    "w2=\"গানের কথার থেকে ও গানটাকে গাওয়ার মধ্যে অদ্ভুত একটা শূন্যতা গ্রাস করে আশা অনুভূতি আছে\""
   ]
  },
  {
   "cell_type": "code",
   "execution_count": 2,
   "id": "10fd0fee",
   "metadata": {},
   "outputs": [
    {
     "data": {
      "text/plain": [
       "'গানের কথার থেকে ও গানটাকে গাওয়ার মধ্যে অদ্ভুত একটা শূন্যতা গ্রাস করে আশা অনুভূতি আছে'"
      ]
     },
     "execution_count": 2,
     "metadata": {},
     "output_type": "execute_result"
    }
   ],
   "source": [
    "sen=w2\n",
    "p='''’“।’‘'''\n",
    "for i in sen:\n",
    "    if i in p:\n",
    "        sen=sen.replace(i,\"\")\n",
    "sen"
   ]
  },
  {
   "cell_type": "code",
   "execution_count": 3,
   "id": "4a77fef2",
   "metadata": {},
   "outputs": [],
   "source": [
    "w1=sen\n",
    "w0=sen\n",
    "punc = '''!()\"\",।'''\n",
    "for i in w0:\n",
    "    if i in punc:\n",
    "        w0 = w0.replace(i,\" \")"
   ]
  },
  {
   "cell_type": "code",
   "execution_count": 4,
   "id": "8bcb1c78",
   "metadata": {},
   "outputs": [
    {
     "name": "stdout",
     "output_type": "stream",
     "text": [
      "['গানের', 'কথার', 'থেকে', 'ও', 'গানটাকে', 'গাওয়ার', 'মধ্যে', 'অদ্ভুত', 'একটা', 'শূন্যতা', 'গ্রাস', 'করে', 'আশা', 'অনুভূতি', 'আছে']\n"
     ]
    },
    {
     "name": "stderr",
     "output_type": "stream",
     "text": [
      "C:\\Users\\shaun\\anaconda3\\lib\\site-packages\\gensim\\similarities\\__init__.py:15: UserWarning: The gensim.similarities.levenshtein submodule is disabled, because the optional Levenshtein package <https://pypi.org/project/python-Levenshtein/> is unavailable. Install Levenhstein (e.g. `pip install python-Levenshtein`) to suppress this warning.\n",
      "  warnings.warn(msg)\n"
     ]
    }
   ],
   "source": [
    "from bnlp import NLTKTokenizer\n",
    "bnltk=NLTKTokenizer()\n",
    "text=w0\n",
    "wordt=bnltk.word_tokenize(text)\n",
    "sentence_tokens=bnltk.sentence_tokenize(text)\n",
    "print(wordt)"
   ]
  },
  {
   "cell_type": "code",
   "execution_count": 5,
   "id": "7b61d090",
   "metadata": {},
   "outputs": [
    {
     "name": "stdout",
     "output_type": "stream",
     "text": [
      "['গানের', 'কথার', 'থেকে', 'ও', 'গানটাকে', 'গাওয়ার', 'মধ্যে', 'অদ্ভুত', 'একটা', 'শূন্যতা', 'গ্রাস', 'করে', 'আশা', 'অনুভূতি', 'আছে']\n"
     ]
    }
   ],
   "source": [
    "wt=[]\n",
    "for i in wordt:\n",
    "    x=i.isnumeric()\n",
    "    if x!=True:\n",
    "        wt.append(i)\n",
    "print(wt)    "
   ]
  },
  {
   "cell_type": "code",
   "execution_count": 6,
   "id": "723def91",
   "metadata": {},
   "outputs": [
    {
     "name": "stdout",
     "output_type": "stream",
     "text": [
      "গানের-error\n",
      "কথার-error\n",
      "গানটাকে-error\n",
      "error word: ['গানের', 'কথার', 'গানটাকে']\n",
      "initally correct word: ['থেকে', 'ও', 'গাওয়ার', 'মধ্যে', 'অদ্ভুত', 'একটা', 'শূন্যতা', 'গ্রাস', 'করে', 'আশা', 'অনুভূতি', 'আছে']\n"
     ]
    }
   ],
   "source": [
    "fh=open(\"c:\\\\Users\\shaun\\Downloads\\BengaliWordList_112.txt\",\"r\",encoding=\"utf-8\")\n",
    "L=[]\n",
    "s=\" \"\n",
    "l=[]\n",
    "er=[]\n",
    "while(s):\n",
    "    s=fh.readline()\n",
    "    L=s.split()\n",
    "    for i in wt:\n",
    "                if i in L:\n",
    "                    l.append(i)\n",
    "for i in wt:\n",
    "            if i not in l:\n",
    "                    er.append(i)\n",
    "                    print(\"{}-error\".format(i))\n",
    "print(\"error word: {}\".format(er))\n",
    "cr=[]\n",
    "for i in wt:\n",
    "            if i not in er:\n",
    "                    cr.append(i)\n",
    "print(\"initally correct word: {}\".format(cr))"
   ]
  },
  {
   "cell_type": "code",
   "execution_count": 7,
   "id": "3274821a",
   "metadata": {},
   "outputs": [
    {
     "name": "stdout",
     "output_type": "stream",
     "text": [
      "applied fourth rules..\n",
      "applied fourth rules..\n",
      "applied first rules..\n",
      "applied fourth rules..\n",
      "['গান', 'কথ', 'গান']\n"
     ]
    }
   ],
   "source": [
    "from bangla_stemmer.stemmer import stemmer\n",
    "wordlist =er\n",
    "stmr = stemmer.BanglaStemmer()\n",
    "stm = stmr.stem(wordlist)\n",
    "print(stm)"
   ]
  },
  {
   "cell_type": "code",
   "execution_count": 8,
   "id": "b78c3949",
   "metadata": {},
   "outputs": [
    {
     "name": "stdout",
     "output_type": "stream",
     "text": [
      "No error words\n"
     ]
    }
   ],
   "source": [
    "h=open(\"Wordlist.txt\",\"r\",encoding=\"utf-8\")\n",
    "c=[]\n",
    "e=[]\n",
    "z=' '\n",
    "while(z):\n",
    "    z=h.readline()\n",
    "    Z=z.split()\n",
    "    for i in stm:\n",
    "        if i in Z :\n",
    "            c.append(i)\n",
    "for i in stm:\n",
    "    if i not in c:\n",
    "        if i not in e:\n",
    "            e.append(i)\n",
    "            print(\"{}-error\".format(i))\n",
    "n=len(e)\n",
    "if n==0:\n",
    "    print(\"No error words\")\n",
    "else:\n",
    "    print(\"error words--{}\".format(e))"
   ]
  },
  {
   "cell_type": "code",
   "execution_count": 9,
   "id": "89a5c123",
   "metadata": {},
   "outputs": [
    {
     "name": "stdout",
     "output_type": "stream",
     "text": [
      "['কথ', 'গান']\n"
     ]
    }
   ],
   "source": [
    "s1=[]\n",
    "for i in c:\n",
    "    if i not in s1:\n",
    "         s1.append(i)\n",
    "print(s1)"
   ]
  },
  {
   "cell_type": "code",
   "execution_count": 14,
   "id": "d9a1c600",
   "metadata": {},
   "outputs": [
    {
     "name": "stdout",
     "output_type": "stream",
     "text": [
      "No suggestions.\n",
      "error words:[]\n",
      "corresponding corrected words:[]\n",
      "গানের কথার থেকে ও গানটাকে গাওয়ার মধ্যে অদ্ভুত একটা শূন্যতা গ্রাস করে আশা অনুভূতি আছে\n"
     ]
    }
   ],
   "source": [
    "def ed(s1,s2):\n",
    "    m=len(s1)\n",
    "    n=len(s2)\n",
    "    if m>n:\n",
    "        diff=m-n\n",
    "        for i in range(n):\n",
    "            if s1[i] != s2[i]:\n",
    "                 diff += 1\n",
    "    elif n>m:\n",
    "        diff=n-m\n",
    "        for i in range(m):\n",
    "            if s1[i] != s2[i]:\n",
    "                diff += 1\n",
    "    else:\n",
    "        diff=0\n",
    "    return diff\n",
    "n=len(e)\n",
    "err=[]\n",
    "crr=[]\n",
    "if n!=0:\n",
    "    gh=open(\"c:\\\\Users\\shaun\\Downloads\\BengaliWordList_112.txt\",\"r\",encoding=\"utf-8\")\n",
    "    ze=' '\n",
    "    while(ze):\n",
    "        ze=gh.readline()\n",
    "        M=ze.split()\n",
    "        for i in e:\n",
    "            for j in M:\n",
    "                if ed(i,j)==2:\n",
    "                        print(\"suggestions:{}\".format(j))\n",
    "                        if i not in crr:\n",
    "                                 crr.append(j)\n",
    "                                 w1=w1.replace(i,j)\n",
    "                        if i not in err:\n",
    "                                 err.append(i)\n",
    "else:\n",
    "    print(\"No suggestions.\")\n",
    "\n",
    "print(\"error words:{}\".format(err))\n",
    "print(\"corresponding corrected words:{}\".format(crr))\n",
    "print(w1)"
   ]
  },
  {
   "cell_type": "code",
   "execution_count": 15,
   "id": "0e2dc03d",
   "metadata": {},
   "outputs": [],
   "source": [
    "punc = '''!()\"\",।'''\n",
    "for i in w1:\n",
    "    if i in punc:\n",
    "        w1 = w1.replace(i,\" \")"
   ]
  },
  {
   "cell_type": "code",
   "execution_count": 16,
   "id": "d3190ffd",
   "metadata": {},
   "outputs": [
    {
     "name": "stdout",
     "output_type": "stream",
     "text": [
      "['গানের', 'কথার', 'থেকে', 'ও', 'গানটাকে', 'গাওয়ার', 'মধ্যে', 'অদ্ভুত', 'একটা', 'শূন্যতা', 'গ্রাস', 'করে', 'আশা', 'অনুভূতি', 'আছে']\n"
     ]
    }
   ],
   "source": [
    "from bnlp import NLTKTokenizer\n",
    "bnltk=NLTKTokenizer()\n",
    "text=sen\n",
    "tokens=bnltk.word_tokenize(text)\n",
    "print(tokens)"
   ]
  },
  {
   "cell_type": "code",
   "execution_count": 17,
   "id": "85c397c6",
   "metadata": {},
   "outputs": [
    {
     "name": "stdout",
     "output_type": "stream",
     "text": [
      "the bigrams are:\n",
      "['গানের', 'কথার']\n",
      "['কথার', 'থেকে']\n",
      "['থেকে', 'ও']\n",
      "['ও', 'গানটাকে']\n",
      "['গানটাকে', 'গাওয়ার']\n",
      "['গাওয়ার', 'মধ্যে']\n",
      "['মধ্যে', 'অদ্ভুত']\n",
      "['অদ্ভুত', 'একটা']\n",
      "['একটা', 'শূন্যতা']\n",
      "['শূন্যতা', 'গ্রাস']\n",
      "['গ্রাস', 'করে']\n",
      "['করে', 'আশা']\n",
      "['আশা', 'অনুভূতি']\n",
      "['অনুভূতি', 'আছে']\n"
     ]
    }
   ],
   "source": [
    "def ngrams(a,s):\n",
    "    b=[]\n",
    "    n=len(a)\n",
    "    for i in range(n-1):\n",
    "        b.append(a[i:i+s])\n",
    "    return b\n",
    "bigram=ngrams(tokens,2)\n",
    "print(\"the bigrams are:\")\n",
    "for i in bigram:\n",
    "    print(i)"
   ]
  },
  {
   "cell_type": "code",
   "execution_count": 18,
   "id": "cb826734",
   "metadata": {},
   "outputs": [],
   "source": [
    "with open(\"bigramdict.txt\",\"r\",encoding=\"utf-8\") as fi:\n",
    "    text=fi.read().split(\"\\n\")"
   ]
  },
  {
   "cell_type": "code",
   "execution_count": 19,
   "id": "57910c65",
   "metadata": {
    "scrolled": true
   },
   "outputs": [],
   "source": [
    "bi=[]\n",
    "for j in bigram:\n",
    "    st=\" \".join(j)\n",
    "    st=st+\" \"\n",
    "    bi.append(st)"
   ]
  },
  {
   "cell_type": "code",
   "execution_count": 20,
   "id": "511f1ed4",
   "metadata": {},
   "outputs": [
    {
     "name": "stdout",
     "output_type": "stream",
     "text": [
      "গ্রাস করে  \t---- 0.14285714285714285\n",
      "গানের কথার  \t---- 0.008333333333333333\n",
      "থেকে ও  \t---- 0.0003301964668978042\n",
      "অদ্ভুত একটা  \t---- 0.05263157894736842\n",
      "গানটাকে গাওয়ার  \t---- 1.0\n",
      "গাওয়ার মধ্যে  \t---- 1.0\n",
      "মধ্যে অদ্ভুত  \t---- 1.0\n",
      "একটা শূন্যতা  \t---- 1.0\n",
      "শূন্যতা গ্রাস  \t---- 1.0\n",
      "অনুভূতি আছে  \t---- 1.0\n"
     ]
    }
   ],
   "source": [
    "c=[]\n",
    "m=len(text)\n",
    "dct={}\n",
    "for i in range(m):\n",
    "    for j in bi:\n",
    "        n=len(j)\n",
    "        o=n+3\n",
    "        if text[i][:n]==j:\n",
    "            dct[j]=text[i][o:]\n",
    "            c.append(j)\n",
    "for i in dct.items():\n",
    "    print(i[0],\"\\t----\",i[1])"
   ]
  },
  {
   "cell_type": "code",
   "execution_count": 21,
   "id": "0b88c206",
   "metadata": {},
   "outputs": [
    {
     "name": "stdout",
     "output_type": "stream",
     "text": [
      "['কথার থেকে ', 'ও গানটাকে ', 'করে আশা ', 'আশা অনুভূতি ']\n"
     ]
    }
   ],
   "source": [
    "e=[]\n",
    "for i in bi:\n",
    "    if i not in c:\n",
    "         e.append(i)\n",
    "print(e)"
   ]
  },
  {
   "cell_type": "code",
   "execution_count": 22,
   "id": "4d4980c8",
   "metadata": {},
   "outputs": [
    {
     "name": "stdout",
     "output_type": "stream",
     "text": [
      " কথার থেকে ও গানটাকে করে আশা আশা অনুভূতি \n"
     ]
    }
   ],
   "source": [
    "st1=\" \"\n",
    "for i in e:\n",
    "    st1+=i\n",
    "print(st1)"
   ]
  },
  {
   "cell_type": "code",
   "execution_count": 23,
   "id": "21a3da5e",
   "metadata": {},
   "outputs": [
    {
     "name": "stdout",
     "output_type": "stream",
     "text": [
      "['কথার', 'থেকে', 'ও', 'গানটাকে', 'করে', 'আশা', 'আশা', 'অনুভূতি']\n"
     ]
    }
   ],
   "source": [
    "x=st1.split()\n",
    "print(x)"
   ]
  },
  {
   "cell_type": "code",
   "execution_count": 24,
   "id": "d49a40fa",
   "metadata": {},
   "outputs": [
    {
     "name": "stdout",
     "output_type": "stream",
     "text": [
      "['আশা']\n"
     ]
    }
   ],
   "source": [
    "_size = len(x)\n",
    "repeated = []\n",
    "for i in range(_size):\n",
    "    k = i + 1\n",
    "    for j in range(k, _size):\n",
    "        if x[i] == x[j] and x[i] not in repeated:\n",
    "            repeated.append(x[i])\n",
    "print(repeated)"
   ]
  },
  {
   "cell_type": "code",
   "execution_count": null,
   "id": "f289451e",
   "metadata": {},
   "outputs": [],
   "source": [
    "from transformers import BertTokenizer, BertForMaskedLM\n",
    "import torch"
   ]
  },
  {
   "cell_type": "code",
   "execution_count": null,
   "id": "9cb6520a",
   "metadata": {},
   "outputs": [],
   "source": [
    "tokenizer = BertTokenizer.from_pretrained(\"bert-base-multilingual-uncased\")\n",
    "e2=[]\n",
    "dic={}\n",
    "j=0\n",
    "for i in wor:\n",
    "        inputs = tokenizer(i, max_length=512, truncation=True, padding='max_length')\n",
    "        e2.append(inputs.input_ids[1])\n",
    "for i in e2:\n",
    "    dic[i]=wor[j]\n",
    "    j+=1"
   ]
  },
  {
   "cell_type": "code",
   "execution_count": null,
   "id": "4c156d6c",
   "metadata": {},
   "outputs": [],
   "source": [
    "n1=len(wor)\n",
    "e1=[]\n",
    "s=[]\n",
    "if n1!=0:\n",
    "    from transformers import pipeline\n",
    "    model = pipeline('fill-mask', model=\"bert-base-multilingual-uncased\")\n",
    "    for i in tokens:\n",
    "        if i in wor:\n",
    "            w1=w1.replace(i,\"[MASK]\")\n",
    "    pred = model(w1)\n",
    "pred"
   ]
  },
  {
   "cell_type": "code",
   "execution_count": null,
   "id": "5481c0c9",
   "metadata": {},
   "outputs": [],
   "source": [
    "\"গানের কথার থেকে ও গানটাকে গাওয়ার মধ্যে অদ্ভুত একটা শূন্যতা গ্রাস করে আশা অনুভূতি আছে\"\n",
    "\"আগামী জুলাই মাসে বিশেষজ্ঞ দলটি ঢাকায় আসবে বলে জানিয়েছেন ঢাকায় নিযুক্ত ইইউ রাষ্ট্রদূত চার্লস হোয়াইটলি।\"\n",
    "\"নভেম্বর মাসের মাঝামাঝি কলকাতা শহরে শীত অনুভূত না হলে ও গ্রামে-গঞ্জে এই সময় শীতের ভাল আমেজ পাওয়া জয় আর পাহাড়ী এলাকা হলে তো কথাই নেই।\"\n",
    "\"আজ মঙ্গলবার দুপুরে গুলশানে বিএনপির চেয়ারপারসনের কার্যালয়ে দেখ সংবাদ সম্মেলনে মির্জা ফখরুল ইসলাম সাংবাদিকদের প্রশ্নের জবাবে এসব কথা বলেন।\"\n",
    "\"বড়ো জঙ্গির সঙ্গে অসমে ধৃত ২ রাজবংশী যুবক নিজস্ব সংবাদদাতা  আলিপুরদুয়ার নিম্ন অসমের বঙ্গাইগাঁওয়ের কুকলুং জঙ্গল সংলগ্ন এলাকা থেকে এক বড়ো জঙ্গির সঙ্গে ডুয়ার্সের দু’জন রাজবংশী যুবক ধরাভ পড়েছে বলে পুলিশ জানিয়েছে। ওই ৩ জন ভুটানের কালিখোলায় জঙ্গি-প্রশিক্ষণ শিবির থেকে সঙ্গীদের জন্য খাবার আনতে বেরিয়ে ধরা পরে বলে পুলিশের দাবি। ওই দুই যুবককে জেরা করতে জলপাইগুড়ি জেলার পুলিশ ও গোয়েন্দাদের একটি দল অসমে গিয়েছেন। \""
   ]
  },
  {
   "cell_type": "code",
   "execution_count": null,
   "id": "f0aefe25",
   "metadata": {},
   "outputs": [],
   "source": [
    "from transformers import pipeline\n",
    "model = pipeline('fill-mask', model=\"bert-base-multilingual-uncased\")\n",
    "pred=model(\"গানের কথার থেকে ও গানটাকে গাওয়ার মধ্যে অদ্ভুত একটা শূন্যতা গ্রাস করে [MASK] অনুভূতি আছে\")\n",
    "pred\n"
   ]
  },
  {
   "cell_type": "code",
   "execution_count": null,
   "id": "aee96762",
   "metadata": {},
   "outputs": [],
   "source": [
    "gh=open(\"c:\\\\Users\\shaun\\Downloads\\BengaliWordList_112.txt\",\"r\",encoding=\"utf-8\")\n",
    "ze=' '\n",
    "err=[]\n",
    "crr=[]\n",
    "while(ze):\n",
    "        ze=gh.readline()\n",
    "        M=ze.split()\n",
    "        for i in repeated:\n",
    "               for j in M:\n",
    "                    if ed(i,j)==0 and i[0]==j[0] and i[-1]==j[-1]:\n",
    "                            print(\"suggestions:{}\".format(j))\n",
    "                            if i not in crr:\n",
    "                                     crr.append(j)\n",
    "                                     w1=w1.replace(i,j)\n",
    "                            if i not in err:\n",
    "                                     err.append(i)\n",
    "crr"
   ]
  }
 ],
 "metadata": {
  "kernelspec": {
   "display_name": "Python 3",
   "language": "python",
   "name": "python3"
  },
  "language_info": {
   "codemirror_mode": {
    "name": "ipython",
    "version": 3
   },
   "file_extension": ".py",
   "mimetype": "text/x-python",
   "name": "python",
   "nbconvert_exporter": "python",
   "pygments_lexer": "ipython3",
   "version": "3.8.8"
  }
 },
 "nbformat": 4,
 "nbformat_minor": 5
}
